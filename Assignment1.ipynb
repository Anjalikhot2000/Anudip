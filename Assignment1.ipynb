{
 "cells": [
  {
   "cell_type": "code",
   "execution_count": 3,
   "id": "07af64ba-4614-4f09-a5ec-c7c06ef2b852",
   "metadata": {
    "tags": []
   },
   "outputs": [
    {
     "name": "stdin",
     "output_type": "stream",
     "text": [
      "Enter a number 4\n"
     ]
    },
    {
     "name": "stdout",
     "output_type": "stream",
     "text": [
      "4 is Even number\n"
     ]
    }
   ],
   "source": [
    "#1. Using input() function take one number from the user and using ternary operators check whether the number is even or odd\n",
    "num= int(input(\"Enter a number\"))\n",
    "print(f\"{num} is Even number\") if num%2==0 else print(f\"{num} is Odd number\")"
   ]
  },
  {
   "cell_type": "code",
   "execution_count": 4,
   "id": "d9edc5cc-4f7d-4624-aba0-2e0227f3e432",
   "metadata": {
    "tags": []
   },
   "outputs": [
    {
     "name": "stdin",
     "output_type": "stream",
     "text": [
      "Enter a number 2\n",
      "Enter another number 3\n"
     ]
    },
    {
     "name": "stdout",
     "output_type": "stream",
     "text": [
      "Before swapping\n",
      "a=2,b=3\n",
      "After swapping\n",
      "a=3,b=2\n"
     ]
    }
   ],
   "source": [
    "#2. Using input function take two number and then swap the number \n",
    "a=int(input(\"Enter a number\"))\n",
    "b=int(input(\"Enter another number\"))\n",
    "print(f\"Before swapping\\na={a},b={b}\")\n",
    "a,b=b,a\n",
    "print(f\"After swapping\\na={a},b={b}\")"
   ]
  },
  {
   "cell_type": "code",
   "execution_count": 13,
   "id": "deceecb0-e7c7-449a-a48e-8186626660fe",
   "metadata": {
    "tags": []
   },
   "outputs": [
    {
     "name": "stdout",
     "output_type": "stream",
     "text": [
      "1km=0.621371mile\n"
     ]
    },
    {
     "name": "stdin",
     "output_type": "stream",
     "text": [
      "Enter Kilometer to  be converted in mile 2\n"
     ]
    },
    {
     "name": "stdout",
     "output_type": "stream",
     "text": [
      "2km=1.24mile\n"
     ]
    }
   ],
   "source": [
    "#3. Write a Program to Convert Kilometers to Miles \n",
    "print(\"1km=0.621371mile\")\n",
    "km=eval(input(\"Enter Kilometer to  be converted in mile\"))\n",
    "m=km*0.621371\n",
    "m=\"{:.2f}\".format(m)\n",
    "print(f\"{km}km={m}mile\")"
   ]
  },
  {
   "cell_type": "code",
   "execution_count": 17,
   "id": "8f5b36e6-89d6-4a69-9b60-b71693be7773",
   "metadata": {
    "tags": []
   },
   "outputs": [
    {
     "name": "stdout",
     "output_type": "stream",
     "text": [
      "Simple Interest on Rs. 200 for 5 years at 5% per year is: Rs 50.0\n"
     ]
    }
   ],
   "source": [
    "#4. Find the Simple Interest on Rs. 200 for 5 years at 5% per year.\n",
    "p=200\n",
    "r=5\n",
    "t=5\n",
    "SI=(p*r*t)/100\n",
    "print(f\"Simple Interest on Rs. 200 for 5 years at 5% per year is: Rs {SI}\")"
   ]
  },
  {
   "cell_type": "code",
   "execution_count": null,
   "id": "103bcb8e-0ee3-4e76-87b5-f1a93b120793",
   "metadata": {},
   "outputs": [],
   "source": []
  }
 ],
 "metadata": {
  "kernelspec": {
   "display_name": "Python 3 (ipykernel)",
   "language": "python",
   "name": "python3"
  },
  "language_info": {
   "codemirror_mode": {
    "name": "ipython",
    "version": 3
   },
   "file_extension": ".py",
   "mimetype": "text/x-python",
   "name": "python",
   "nbconvert_exporter": "python",
   "pygments_lexer": "ipython3",
   "version": "3.11.4"
  }
 },
 "nbformat": 4,
 "nbformat_minor": 5
}
